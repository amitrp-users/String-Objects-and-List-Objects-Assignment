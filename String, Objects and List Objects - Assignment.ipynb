{
 "cells": [
  {
   "cell_type": "markdown",
   "id": "53adcf58",
   "metadata": {},
   "source": [
    "# Q 1"
   ]
  },
  {
   "cell_type": "markdown",
   "id": "f035008e",
   "metadata": {},
   "source": [
    "Create the below pattern using nested for loop in Python.\n"
   ]
  },
  {
   "cell_type": "raw",
   "id": "67243bdc",
   "metadata": {},
   "source": [
    "*\n",
    "* *\n",
    "* * *\n",
    "* * * *\n",
    "* * * * *\n",
    "* * * *\n",
    "* * *\n",
    "* *\n",
    "*"
   ]
  },
  {
   "cell_type": "code",
   "execution_count": 1,
   "id": "06453742",
   "metadata": {},
   "outputs": [
    {
     "name": "stdout",
     "output_type": "stream",
     "text": [
      "enter row7\n",
      "* \n",
      "* * \n",
      "* * * \n",
      "* * * * \n",
      "* * * * * \n",
      "* * * * * * \n",
      "* * * * * * * \n",
      "* * * * * * * * \n",
      "* * * * * * * \n",
      "* * * * * * \n",
      "* * * * * \n",
      "* * * * \n",
      "* * * \n",
      "* * \n",
      "* \n"
     ]
    }
   ],
   "source": [
    "row=int(input(\"enter row\"))\n",
    "\n",
    "for i in range(1,row+1):\n",
    "    for j in range(1,i+1):\n",
    "        print(\"* \",end=\"\")\n",
    "    print()\n",
    "\n",
    "for i in range(row+1,0,-1):\n",
    "    for j in range(i):\n",
    "        print('* ', end=\"\")\n",
    "    print('')     "
   ]
  },
  {
   "cell_type": "code",
   "execution_count": null,
   "id": "45b0130c",
   "metadata": {},
   "outputs": [],
   "source": []
  },
  {
   "cell_type": "markdown",
   "id": "af76314d",
   "metadata": {},
   "source": [
    "# Q 2"
   ]
  },
  {
   "cell_type": "markdown",
   "id": "dac8cb73",
   "metadata": {},
   "source": [
    "Write a Python program to reverse a word after accepting the input from the user."
   ]
  },
  {
   "cell_type": "code",
   "execution_count": 2,
   "id": "b4fd6bd3",
   "metadata": {},
   "outputs": [
    {
     "name": "stdout",
     "output_type": "stream",
     "text": [
      "elon\n"
     ]
    }
   ],
   "source": [
    "Input = input(\"\")"
   ]
  },
  {
   "cell_type": "code",
   "execution_count": 3,
   "id": "603b1fae",
   "metadata": {},
   "outputs": [
    {
     "data": {
      "text/plain": [
       "'nole'"
      ]
     },
     "execution_count": 3,
     "metadata": {},
     "output_type": "execute_result"
    }
   ],
   "source": [
    "output=Input[::-1]\n",
    "output"
   ]
  }
 ],
 "metadata": {
  "kernelspec": {
   "display_name": "Python 3 (ipykernel)",
   "language": "python",
   "name": "python3"
  },
  "language_info": {
   "codemirror_mode": {
    "name": "ipython",
    "version": 3
   },
   "file_extension": ".py",
   "mimetype": "text/x-python",
   "name": "python",
   "nbconvert_exporter": "python",
   "pygments_lexer": "ipython3",
   "version": "3.9.12"
  }
 },
 "nbformat": 4,
 "nbformat_minor": 5
}
